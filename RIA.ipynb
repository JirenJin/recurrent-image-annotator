{
 "cells": [
  {
   "cell_type": "code",
   "execution_count": 1,
   "metadata": {
    "collapsed": false
   },
   "outputs": [],
   "source": [
    "import numpy as np\n",
    "import tensorflow as tf\n",
    "import tflearn\n",
    "import cv2\n",
    "import json"
   ]
  },
  {
   "cell_type": "markdown",
   "metadata": {},
   "source": [
    "# Define VGG-16 Net"
   ]
  },
  {
   "cell_type": "code",
   "execution_count": 2,
   "metadata": {
    "collapsed": false
   },
   "outputs": [],
   "source": [
    "from kaffe.tensorflow import Network\n",
    "\n",
    "class VGG_ILSVRC_16_layers(Network):\n",
    "    def setup(self):\n",
    "        (self.feed('input')\n",
    "             .conv(3, 3, 64, 1, 1, name='conv1_1')\n",
    "             .conv(3, 3, 64, 1, 1, name='conv1_2')\n",
    "             .max_pool(2, 2, 2, 2, name='pool1')\n",
    "             .conv(3, 3, 128, 1, 1, name='conv2_1')\n",
    "             .conv(3, 3, 128, 1, 1, name='conv2_2')\n",
    "             .max_pool(2, 2, 2, 2, name='pool2')\n",
    "             .conv(3, 3, 256, 1, 1, name='conv3_1')\n",
    "             .conv(3, 3, 256, 1, 1, name='conv3_2')\n",
    "             .conv(3, 3, 256, 1, 1, name='conv3_3')\n",
    "             .max_pool(2, 2, 2, 2, name='pool3')\n",
    "             .conv(3, 3, 512, 1, 1, name='conv4_1')\n",
    "             .conv(3, 3, 512, 1, 1, name='conv4_2')\n",
    "             .conv(3, 3, 512, 1, 1, name='conv4_3')\n",
    "             .max_pool(2, 2, 2, 2, name='pool4')\n",
    "             .conv(3, 3, 512, 1, 1, name='conv5_1')\n",
    "             .conv(3, 3, 512, 1, 1, name='conv5_2')\n",
    "             .conv(3, 3, 512, 1, 1, name='conv5_3')\n",
    "             .max_pool(2, 2, 2, 2, name='pool5')\n",
    "             .fc(4096, name='fc6')\n",
    "             .fc(4096, name='fc7')\n",
    "             .fc(1000, relu=False, name='fc8')\n",
    "             .softmax(name='prob'))"
   ]
  },
  {
   "cell_type": "code",
   "execution_count": 3,
   "metadata": {
    "collapsed": false
   },
   "outputs": [],
   "source": [
    "inputs = tf.placeholder(tf.float32, [None, 224, 224, 3])\n",
    "# initialize VGG-16 net\n",
    "net = VGG_ILSVRC_16_layers({'input': inputs})\n",
    "# we only need to extract fc7 layer features\n",
    "fc7 = net.layers['fc7']"
   ]
  },
  {
   "cell_type": "code",
   "execution_count": 4,
   "metadata": {
    "collapsed": true
   },
   "outputs": [],
   "source": [
    "def load_images(image_list):\n",
    "    \"\"\"Load images into numpy arrays from an image_list.\"\"\"\n",
    "    # specific for vgg model, subtract mean pixel value\n",
    "    mean_pixel = [103.939, 116.779, 123.68]\n",
    "    image_full_batch = []\n",
    "    for image_path in image_list:\n",
    "        # 1 means read color image\n",
    "        image_tensor = cv2.imread(image_path, 1).astype('float32')\n",
    "        image_full_batch.append(image_tensor)\n",
    "    # put all image tensors together into the full batch\n",
    "    image_full_batch = np.stack(image_full_batch)\n",
    "    for c in xrange(3):\n",
    "        image_full_batch[:, :, :, c] -= mean_pixel[c]\n",
    "    return image_full_batch"
   ]
  },
  {
   "cell_type": "code",
   "execution_count": 5,
   "metadata": {
    "collapsed": true
   },
   "outputs": [],
   "source": [
    "def generate_batch(inputs, batch_size=100):\n",
    "    \"\"\"Generate mini batches for given inputs.\"\"\"\n",
    "    full_size = inputs.shape[0]\n",
    "    iterations = full_size // batch_size\n",
    "    count = 0\n",
    "    while count < iterations:\n",
    "        yield inputs[count*batch_size:(count+1)*batch_size]\n",
    "        count +=1\n",
    "    # finally, yield data that has not been used yet \n",
    "    # maybe we should check the size, in case that there is only one example left (dims decreases)\n",
    "    if count*batch_size != full_size:\n",
    "        yield inputs[count*batch_size:]"
   ]
  },
  {
   "cell_type": "code",
   "execution_count": 6,
   "metadata": {
    "collapsed": false
   },
   "outputs": [],
   "source": [
    "def extract_image_features(images):\n",
    "    \"\"\"Extract fc7 features using vgg-16 model.\"\"\"\n",
    "    with tf.Session() as sess:\n",
    "        # Load the data\n",
    "        sess.run(tf.initialize_all_variables())\n",
    "        net.load('vgg_16.tfmodel', sess)\n",
    "\n",
    "        # train_image_embeddings\n",
    "        image_features = []\n",
    "        for image_batch in generate_batch(images, batch_size = 200):\n",
    "            feed = {inputs: image_batch}\n",
    "            batch_image_features = sess.run([fc7], feed_dict=feed)\n",
    "            # notice the 0, since the dimension of bacth_image_features is 1xbatch_sizex4096\n",
    "            image_features.append(batch_image_features[0])\n",
    "            \n",
    "    image_features = np.vstack(image_features)\n",
    "    return image_features"
   ]
  },
  {
   "cell_type": "markdown",
   "metadata": {},
   "source": [
    "# Load images"
   ]
  },
  {
   "cell_type": "code",
   "execution_count": 7,
   "metadata": {
    "collapsed": true
   },
   "outputs": [],
   "source": [
    "with open('Corel5k/train_image_list.json') as f:\n",
    "    train_image_list = json.load(f)\n",
    "train_images = load_images(train_image_list)\n",
    "\n",
    "with open('Corel5k/test_image_list.json') as f:\n",
    "    test_image_list = json.load(f)\n",
    "test_images = load_images(test_image_list)"
   ]
  },
  {
   "cell_type": "markdown",
   "metadata": {},
   "source": [
    "# Extract image features and save for later use"
   ]
  },
  {
   "cell_type": "code",
   "execution_count": 8,
   "metadata": {
    "collapsed": false
   },
   "outputs": [],
   "source": [
    "train_image_features = extract_image_features(train_images)\n",
    "with open(\"train_image_features.npy\", \"w\") as f:\n",
    "    np.save(f, train_image_features)\n",
    "\n",
    "test_image_features = extract_image_features(test_images)\n",
    "with open(\"test_image_features.npy\", \"w\") as f:\n",
    "    np.save(f, test_image_features)"
   ]
  },
  {
   "cell_type": "code",
   "execution_count": null,
   "metadata": {
    "collapsed": false
   },
   "outputs": [],
   "source": [
    "train_image_features.shape"
   ]
  },
  {
   "cell_type": "code",
   "execution_count": null,
   "metadata": {
    "collapsed": true
   },
   "outputs": [],
   "source": []
  }
 ],
 "metadata": {
  "kernelspec": {
   "display_name": "Python 2",
   "language": "python",
   "name": "python2"
  },
  "language_info": {
   "codemirror_mode": {
    "name": "ipython",
    "version": 2
   },
   "file_extension": ".py",
   "mimetype": "text/x-python",
   "name": "python",
   "nbconvert_exporter": "python",
   "pygments_lexer": "ipython2",
   "version": "2.7.11"
  }
 },
 "nbformat": 4,
 "nbformat_minor": 0
}
