{
 "cells": [
  {
   "cell_type": "code",
   "execution_count": 2,
   "metadata": {
    "collapsed": false
   },
   "outputs": [],
   "source": [
    "import numpy as np\n",
    "import tensorflow as tf\n",
    "import tflearn\n",
    "import cv2"
   ]
  },
  {
   "cell_type": "code",
   "execution_count": 3,
   "metadata": {
    "collapsed": false
   },
   "outputs": [],
   "source": [
    "from kaffe.tensorflow import Network\n",
    "\n",
    "class VGG_ILSVRC_16_layers(Network):\n",
    "    def setup(self):\n",
    "        (self.feed('input')\n",
    "             .conv(3, 3, 64, 1, 1, name='conv1_1')\n",
    "             .conv(3, 3, 64, 1, 1, name='conv1_2')\n",
    "             .max_pool(2, 2, 2, 2, name='pool1')\n",
    "             .conv(3, 3, 128, 1, 1, name='conv2_1')\n",
    "             .conv(3, 3, 128, 1, 1, name='conv2_2')\n",
    "             .max_pool(2, 2, 2, 2, name='pool2')\n",
    "             .conv(3, 3, 256, 1, 1, name='conv3_1')\n",
    "             .conv(3, 3, 256, 1, 1, name='conv3_2')\n",
    "             .conv(3, 3, 256, 1, 1, name='conv3_3')\n",
    "             .max_pool(2, 2, 2, 2, name='pool3')\n",
    "             .conv(3, 3, 512, 1, 1, name='conv4_1')\n",
    "             .conv(3, 3, 512, 1, 1, name='conv4_2')\n",
    "             .conv(3, 3, 512, 1, 1, name='conv4_3')\n",
    "             .max_pool(2, 2, 2, 2, name='pool4')\n",
    "             .conv(3, 3, 512, 1, 1, name='conv5_1')\n",
    "             .conv(3, 3, 512, 1, 1, name='conv5_2')\n",
    "             .conv(3, 3, 512, 1, 1, name='conv5_3')\n",
    "             .max_pool(2, 2, 2, 2, name='pool5')\n",
    "             .fc(4096, name='fc6')\n",
    "             .fc(4096, name='fc7')\n",
    "             .fc(1000, relu=False, name='fc8')\n",
    "             .softmax(name='prob'))"
   ]
  },
  {
   "cell_type": "code",
   "execution_count": 4,
   "metadata": {
    "collapsed": false
   },
   "outputs": [],
   "source": [
    "images = tf.placeholder(tf.float32, [None, 224, 224, 3])"
   ]
  },
  {
   "cell_type": "code",
   "execution_count": 5,
   "metadata": {
    "collapsed": true
   },
   "outputs": [],
   "source": [
    "# initialize VGG-16 net\n",
    "net = VGG_ILSVRC_16_layers({'input': images})"
   ]
  },
  {
   "cell_type": "code",
   "execution_count": 28,
   "metadata": {
    "collapsed": true
   },
   "outputs": [],
   "source": [
    "# we only need to extract fc7 layer features\n",
    "fc7 = net.layers['fc7']"
   ]
  },
  {
   "cell_type": "code",
   "execution_count": 29,
   "metadata": {
    "collapsed": true
   },
   "outputs": [],
   "source": [
    "def load_images(image_list):\n",
    "    \"\"\"Load images into numpy arrays from an image_list.\"\"\"\n",
    "    \n",
    "    image_full_batch = []\n",
    "    for image_path in image_list:\n",
    "        # 1 means read color image\n",
    "        image_tensor = cv2.imread(image_path, 1)\n",
    "        image_full_batch.append(image_tensor)\n",
    "    # put all image tensors together into the full batch\n",
    "    image_full_batch = np.stack(image_tensor)\n",
    "    return image_full_batch"
   ]
  },
  {
   "cell_type": "code",
   "execution_count": 19,
   "metadata": {
    "collapsed": false
   },
   "outputs": [],
   "source": [
    "image_path = \"Corel5k/all_images/1000.jpg\"\n",
    "image_path_2 = \"Corel5k/all_images/10000.jpg\"\n",
    "image_tensor = cv2.imread(image_path, 1)\n",
    "image_t2 = cv2.imread(image_path_2, 1)\n",
    "image_batch = np.stack([image_tensor, image_t2])"
   ]
  },
  {
   "cell_type": "code",
   "execution_count": 20,
   "metadata": {
    "collapsed": false
   },
   "outputs": [],
   "source": [
    "with tf.Session() as sess:\n",
    "    # Load the data\n",
    "    sess.run(tf.initialize_all_variables())\n",
    "    net.load('vgg_16.tfmodel', sess)\n",
    "    for i in xrange(1):\n",
    "        train_images_batch = image_batch\n",
    "        feed = {images: train_images_batch}\n",
    "\n",
    "        image_embeddings = sess.run([fc7], feed_dict=feed)\n"
   ]
  },
  {
   "cell_type": "code",
   "execution_count": 27,
   "metadata": {
    "collapsed": false
   },
   "outputs": [
    {
     "data": {
      "text/plain": [
       "[array([[ 0.        ,  0.35319358,  1.00002849, ...,  1.18863904,\n",
       "          0.        ,  0.30297029],\n",
       "        [ 0.        ,  0.94959658,  1.84656298, ...,  0.        ,\n",
       "          0.        ,  0.        ]], dtype=float32)]"
      ]
     },
     "execution_count": 27,
     "metadata": {},
     "output_type": "execute_result"
    }
   ],
   "source": [
    "image_embeddings"
   ]
  },
  {
   "cell_type": "code",
   "execution_count": null,
   "metadata": {
    "collapsed": true
   },
   "outputs": [],
   "source": []
  }
 ],
 "metadata": {
  "kernelspec": {
   "display_name": "Python 2",
   "language": "python",
   "name": "python2"
  },
  "language_info": {
   "codemirror_mode": {
    "name": "ipython",
    "version": 2
   },
   "file_extension": ".py",
   "mimetype": "text/x-python",
   "name": "python",
   "nbconvert_exporter": "python",
   "pygments_lexer": "ipython2",
   "version": "2.7.11"
  }
 },
 "nbformat": 4,
 "nbformat_minor": 0
}
